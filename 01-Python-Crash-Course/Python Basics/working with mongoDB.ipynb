{
 "cells": [
  {
   "cell_type": "code",
   "execution_count": 2,
   "metadata": {},
   "outputs": [],
   "source": [
    "import pymongo as m"
   ]
  },
  {
   "cell_type": "code",
   "execution_count": 5,
   "metadata": {},
   "outputs": [],
   "source": [
    "# package which enable us to connect to the mongodb\n",
    "dbconn = m.MongoClient(\"mongodb://localhost:27017/\") # connecting to the mongodb local instance"
   ]
  },
  {
   "cell_type": "code",
   "execution_count": 94,
   "metadata": {},
   "outputs": [],
   "source": [
    "dbname='m202'"
   ]
  },
  {
   "cell_type": "code",
   "execution_count": 95,
   "metadata": {},
   "outputs": [],
   "source": [
    "db= dbconn[dbname]\n",
    "# if db is not present it will automatically create one"
   ]
  },
  {
   "cell_type": "code",
   "execution_count": 96,
   "metadata": {},
   "outputs": [
    {
     "name": "stdout",
     "output_type": "stream",
     "text": [
      "['admin', 'config', 'exam', 'local', 'm201', 'test']\n"
     ]
    }
   ],
   "source": [
    "print(dbconn.list_database_names())"
   ]
  },
  {
   "cell_type": "code",
   "execution_count": 97,
   "metadata": {},
   "outputs": [
    {
     "name": "stdout",
     "output_type": "stream",
     "text": [
      "['admin', 'config', 'exam', 'local', 'm201', 'test']\n",
      "DB doesn't exists\n"
     ]
    }
   ],
   "source": [
    "# check if db is exits in mongodb\n",
    "dblist= dbconn.list_database_names() # obtaining all the database names\n",
    "print(dblist)\n",
    "if dbname in dblist:\n",
    "    print(\"DB is present\")\n",
    "else:\n",
    "    print(\"DB doesn't exists\")"
   ]
  },
  {
   "cell_type": "code",
   "execution_count": 98,
   "metadata": {},
   "outputs": [],
   "source": [
    "coll = db['people']"
   ]
  },
  {
   "cell_type": "code",
   "execution_count": 99,
   "metadata": {},
   "outputs": [
    {
     "name": "stdout",
     "output_type": "stream",
     "text": [
      "not present\n"
     ]
    }
   ],
   "source": [
    "if 'people' in db.list_collection_names():\n",
    "    print(\"present\")\n",
    "else:\n",
    "    print(\"not present\")"
   ]
  },
  {
   "cell_type": "code",
   "execution_count": 100,
   "metadata": {},
   "outputs": [],
   "source": [
    "my_row={\n",
    "    'name':'vikram',\n",
    "    'last_name':'shinde',\n",
    "    'mks':'99',\n",
    "    'age':'20'\n",
    "}\n",
    "# creating key value pairs for inserting into DB"
   ]
  },
  {
   "cell_type": "code",
   "execution_count": 101,
   "metadata": {},
   "outputs": [],
   "source": [
    "x = coll.insert_one(my_row)"
   ]
  },
  {
   "cell_type": "code",
   "execution_count": 102,
   "metadata": {},
   "outputs": [
    {
     "data": {
      "text/plain": [
       "ObjectId('5f39f58cb4b1b77cadf5e6e5')"
      ]
     },
     "execution_count": 102,
     "metadata": {},
     "output_type": "execute_result"
    }
   ],
   "source": [
    "x.inserted_id\n",
    "# printing unique id"
   ]
  },
  {
   "cell_type": "code",
   "execution_count": 103,
   "metadata": {},
   "outputs": [],
   "source": [
    "my_row=[{\n",
    "    'name':'vikram',\n",
    "    'last_name':'shinde',\n",
    "    'mks':'99',\n",
    "    'age':'20'\n",
    "},\n",
    "{\n",
    "    'name':'vicky',\n",
    "    'last_name':'shinde',\n",
    "    'mks':'90',\n",
    "    'age':'20'\n",
    "},\n",
    "{\n",
    "    'name':'abc',\n",
    "    'last_name':'shinde',\n",
    "    'mks':'95',\n",
    "    'age':'20'\n",
    "}]"
   ]
  },
  {
   "cell_type": "code",
   "execution_count": 104,
   "metadata": {},
   "outputs": [],
   "source": [
    "x =coll.insert_many(my_row)"
   ]
  },
  {
   "cell_type": "code",
   "execution_count": 105,
   "metadata": {},
   "outputs": [
    {
     "data": {
      "text/plain": [
       "[ObjectId('5f39f591b4b1b77cadf5e6e6'),\n",
       " ObjectId('5f39f591b4b1b77cadf5e6e7'),\n",
       " ObjectId('5f39f591b4b1b77cadf5e6e8')]"
      ]
     },
     "execution_count": 105,
     "metadata": {},
     "output_type": "execute_result"
    }
   ],
   "source": [
    "x.inserted_ids"
   ]
  },
  {
   "cell_type": "code",
   "execution_count": 106,
   "metadata": {},
   "outputs": [],
   "source": [
    "result = coll.find({})"
   ]
  },
  {
   "cell_type": "code",
   "execution_count": 107,
   "metadata": {},
   "outputs": [
    {
     "data": {
      "text/plain": [
       "{'_id': ObjectId('5f39f591b4b1b77cadf5e6e8'),\n",
       " 'name': 'abc',\n",
       " 'last_name': 'shinde',\n",
       " 'mks': '95',\n",
       " 'age': '20'}"
      ]
     },
     "execution_count": 107,
     "metadata": {},
     "output_type": "execute_result"
    }
   ],
   "source": [
    "result[3]"
   ]
  },
  {
   "cell_type": "code",
   "execution_count": 62,
   "metadata": {},
   "outputs": [
    {
     "name": "stdout",
     "output_type": "stream",
     "text": [
      "{'_id': ObjectId('5f39ef6db4b1b77cadf5e6e3'), 'name': 'vicky', 'last_name': 'shinde', 'mks': '90', 'age': '20'}\n"
     ]
    }
   ],
   "source": [
    "for i in coll.find({}).skip(2).limit(1):\n",
    "    print(i)\n",
    "    \n",
    "# find() returns iterable object"
   ]
  },
  {
   "cell_type": "code",
   "execution_count": 72,
   "metadata": {},
   "outputs": [
    {
     "name": "stdout",
     "output_type": "stream",
     "text": [
      "{'name': 'vikram', 'last_name': 'shinde'}\n",
      "{'name': 'vikram', 'last_name': 'shinde'}\n",
      "{'name': 'vicky', 'last_name': 'shinde'}\n",
      "{'name': 'abc', 'last_name': 'shinde'}\n"
     ]
    }
   ],
   "source": [
    "# displaying only specific columns\n",
    "# and excluding _id columns\n",
    "\n",
    "for i in coll.find({},{'name':True,'last_name':True,'_id':False}):\n",
    "    print(i)"
   ]
  },
  {
   "cell_type": "code",
   "execution_count": 75,
   "metadata": {},
   "outputs": [
    {
     "name": "stdout",
     "output_type": "stream",
     "text": [
      "{'_id': ObjectId('5f39ef6ab4b1b77cadf5e6e1'), 'name': 'vikram', 'last_name': 'shinde', 'mks': '99', 'age': '20'}\n",
      "{'_id': ObjectId('5f39ef6db4b1b77cadf5e6e2'), 'name': 'vikram', 'last_name': 'shinde', 'mks': '99', 'age': '20'}\n"
     ]
    }
   ],
   "source": [
    "# searching docs using the condition\n",
    "fil = {'name':'vikram'}\n",
    "for i in coll.find(fil):\n",
    "    print(i)"
   ]
  },
  {
   "cell_type": "code",
   "execution_count": 81,
   "metadata": {},
   "outputs": [
    {
     "name": "stdout",
     "output_type": "stream",
     "text": [
      "{'_id': ObjectId('5f39ef6ab4b1b77cadf5e6e1'), 'name': 'vikram', 'last_name': 'shinde', 'mks': '99', 'age': '20'}\n",
      "{'_id': ObjectId('5f39ef6db4b1b77cadf5e6e2'), 'name': 'vikram', 'last_name': 'shinde', 'mks': '99', 'age': '20'}\n",
      "{'_id': ObjectId('5f39ef6db4b1b77cadf5e6e3'), 'name': 'vicky', 'last_name': 'shinde', 'mks': '90', 'age': '20'}\n",
      "{'_id': ObjectId('5f39ef6db4b1b77cadf5e6e4'), 'name': 'abc', 'last_name': 'shinde', 'mks': '95', 'age': '20'}\n"
     ]
    }
   ],
   "source": [
    "# using comaprison operators\n",
    "fil = {'mks':{'$gte':'90'}}\n",
    "for i in coll.find(fil):\n",
    "    print(i)"
   ]
  },
  {
   "cell_type": "code",
   "execution_count": 82,
   "metadata": {},
   "outputs": [
    {
     "name": "stdout",
     "output_type": "stream",
     "text": [
      "{'_id': ObjectId('5f39ef6db4b1b77cadf5e6e3'), 'name': 'vicky', 'last_name': 'shinde', 'mks': '90', 'age': '20'}\n"
     ]
    }
   ],
   "source": [
    "fil = {'mks':{'$lte':'90'}}\n",
    "for i in coll.find(fil):\n",
    "    print(i)"
   ]
  },
  {
   "cell_type": "code",
   "execution_count": 84,
   "metadata": {},
   "outputs": [
    {
     "name": "stdout",
     "output_type": "stream",
     "text": [
      "{'_id': ObjectId('5f39ef6ab4b1b77cadf5e6e1'), 'name': 'vikram', 'last_name': 'shinde', 'mks': '99', 'age': '20'}\n",
      "{'_id': ObjectId('5f39ef6db4b1b77cadf5e6e2'), 'name': 'vikram', 'last_name': 'shinde', 'mks': '99', 'age': '20'}\n",
      "{'_id': ObjectId('5f39ef6db4b1b77cadf5e6e4'), 'name': 'abc', 'last_name': 'shinde', 'mks': '95', 'age': '20'}\n",
      "{'_id': ObjectId('5f39ef6db4b1b77cadf5e6e3'), 'name': 'vicky', 'last_name': 'shinde', 'mks': '90', 'age': '20'}\n"
     ]
    }
   ],
   "source": [
    "# sorting the data in descending order\n",
    "fil = {'mks':{'$gte':'90'}}\n",
    "for i in coll.find(fil).sort('mks',-1):\n",
    "    print(i)"
   ]
  },
  {
   "cell_type": "code",
   "execution_count": 86,
   "metadata": {},
   "outputs": [
    {
     "name": "stdout",
     "output_type": "stream",
     "text": [
      "{'_id': ObjectId('5f39ef6db4b1b77cadf5e6e3'), 'name': 'vicky', 'last_name': 'shinde', 'mks': '90', 'age': '20'}\n",
      "{'_id': ObjectId('5f39ef6db4b1b77cadf5e6e4'), 'name': 'abc', 'last_name': 'shinde', 'mks': '95', 'age': '20'}\n",
      "{'_id': ObjectId('5f39ef6ab4b1b77cadf5e6e1'), 'name': 'vikram', 'last_name': 'shinde', 'mks': '99', 'age': '20'}\n",
      "{'_id': ObjectId('5f39ef6db4b1b77cadf5e6e2'), 'name': 'vikram', 'last_name': 'shinde', 'mks': '99', 'age': '20'}\n"
     ]
    }
   ],
   "source": [
    "# sorting the data in ascending order\n",
    "fil = {'mks':{'$gte':'90'}}\n",
    "for i in coll.find(fil).sort('mks'):\n",
    "    print(i)"
   ]
  },
  {
   "cell_type": "code",
   "execution_count": 87,
   "metadata": {},
   "outputs": [],
   "source": [
    "# deleting the row from mongodb\n",
    "x = coll.delete_one({'name':'vicky'})"
   ]
  },
  {
   "cell_type": "code",
   "execution_count": 89,
   "metadata": {},
   "outputs": [
    {
     "data": {
      "text/plain": [
       "1"
      ]
     },
     "execution_count": 89,
     "metadata": {},
     "output_type": "execute_result"
    }
   ],
   "source": [
    "# getting count of deleted records\n",
    "x.deleted_count"
   ]
  },
  {
   "cell_type": "code",
   "execution_count": 90,
   "metadata": {},
   "outputs": [],
   "source": [
    "# similarly for droping the multiple rows use delete_many\n",
    "x = coll.delete_many({'mks':'99'})\n",
    "# for deleting all rows don't pass any parameter to the delete_many()"
   ]
  },
  {
   "cell_type": "code",
   "execution_count": 91,
   "metadata": {},
   "outputs": [
    {
     "data": {
      "text/plain": [
       "2"
      ]
     },
     "execution_count": 91,
     "metadata": {},
     "output_type": "execute_result"
    }
   ],
   "source": [
    "x.deleted_count"
   ]
  },
  {
   "cell_type": "code",
   "execution_count": 92,
   "metadata": {},
   "outputs": [],
   "source": [
    "# for droping the entire collection\n",
    "coll_to_drop=db['people'] # drops the entire collection named as people\n",
    "coll_to_drop.drop()"
   ]
  },
  {
   "cell_type": "code",
   "execution_count": 93,
   "metadata": {},
   "outputs": [],
   "source": [
    "# updating the values present in the collection"
   ]
  },
  {
   "cell_type": "code",
   "execution_count": 108,
   "metadata": {},
   "outputs": [],
   "source": [
    "update_cond= {'name':'vicky'}\n",
    "new_val={'$set':{'mks':'60'}}\n",
    "x =coll.update_many(update_cond,new_val)"
   ]
  },
  {
   "cell_type": "code",
   "execution_count": 109,
   "metadata": {},
   "outputs": [
    {
     "data": {
      "text/plain": [
       "1"
      ]
     },
     "execution_count": 109,
     "metadata": {},
     "output_type": "execute_result"
    }
   ],
   "source": [
    "x.modified_count"
   ]
  },
  {
   "cell_type": "code",
   "execution_count": null,
   "metadata": {},
   "outputs": [],
   "source": [
    "# for updating one row use update_one"
   ]
  },
  {
   "cell_type": "code",
   "execution_count": null,
   "metadata": {},
   "outputs": [],
   "source": []
  }
 ],
 "metadata": {
  "kernelspec": {
   "display_name": "Python 3",
   "language": "python",
   "name": "python3"
  },
  "language_info": {
   "codemirror_mode": {
    "name": "ipython",
    "version": 3
   },
   "file_extension": ".py",
   "mimetype": "text/x-python",
   "name": "python",
   "nbconvert_exporter": "python",
   "pygments_lexer": "ipython3",
   "version": "3.7.3"
  }
 },
 "nbformat": 4,
 "nbformat_minor": 4
}
