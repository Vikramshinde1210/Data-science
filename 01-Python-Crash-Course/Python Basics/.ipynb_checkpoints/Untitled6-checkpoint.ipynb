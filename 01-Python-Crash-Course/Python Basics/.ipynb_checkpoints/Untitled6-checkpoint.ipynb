{
 "cells": [
  {
   "cell_type": "code",
   "execution_count": 1,
   "metadata": {},
   "outputs": [
    {
     "name": "stdout",
     "output_type": "stream",
     "text": [
      "2\n",
      "2.5\n"
     ]
    }
   ],
   "source": [
    "try:\n",
    "    a=int(input())\n",
    "    print(5/a)\n",
    "except:\n",
    "    print(\"something went wrong\")"
   ]
  },
  {
   "cell_type": "code",
   "execution_count": 2,
   "metadata": {},
   "outputs": [
    {
     "name": "stdout",
     "output_type": "stream",
     "text": [
      "not writable\n",
      "i will execute always\n"
     ]
    }
   ],
   "source": [
    "try:\n",
    "    f=open('text.txt')\n",
    "    f.write(\"hello world\")\n",
    "except Exception as e:\n",
    "    print(e)\n",
    "else:\n",
    "    print(\"everything is alright\")\n",
    "finally:\n",
    "    print(\"i will execute always\")\n"
   ]
  },
  {
   "cell_type": "code",
   "execution_count": 5,
   "metadata": {},
   "outputs": [],
   "source": [
    "def askint():\n",
    "    while True:\n",
    "        try:\n",
    "            v=int(input(\"please enter the integer number\"))\n",
    "            a=False\n",
    "        except BaseException as e:\n",
    "            print(e)\n",
    "            continue\n",
    "        else:\n",
    "            print(\"successfully executed\")\n",
    "            break\n",
    "        finally:\n",
    "            print(\"this is finally block\")\n",
    "    "
   ]
  },
  {
   "cell_type": "code",
   "execution_count": 9,
   "metadata": {},
   "outputs": [
    {
     "name": "stdout",
     "output_type": "stream",
     "text": [
      "please enter the integer number0\n",
      "successfully executed\n",
      "this is finally block\n"
     ]
    }
   ],
   "source": [
    "askint() "
   ]
  },
  {
   "cell_type": "code",
   "execution_count": 13,
   "metadata": {},
   "outputs": [
    {
     "name": "stdout",
     "output_type": "stream",
     "text": [
      "enter integer number2\n",
      "number is lesss than 5\n"
     ]
    }
   ],
   "source": [
    "try:\n",
    "    a=int(input(\"enter integer number\"))\n",
    "    if a<5:\n",
    "        raise ValueError(\"number is lesss than 5\")\n",
    "except BaseException as e:\n",
    "    print(e)"
   ]
  },
  {
   "cell_type": "code",
   "execution_count": null,
   "metadata": {},
   "outputs": [],
   "source": []
  }
 ],
 "metadata": {
  "kernelspec": {
   "display_name": "Python 3",
   "language": "python",
   "name": "python3"
  },
  "language_info": {
   "codemirror_mode": {
    "name": "ipython",
    "version": 3
   },
   "file_extension": ".py",
   "mimetype": "text/x-python",
   "name": "python",
   "nbconvert_exporter": "python",
   "pygments_lexer": "ipython3",
   "version": "3.8.3"
  }
 },
 "nbformat": 4,
 "nbformat_minor": 4
}
