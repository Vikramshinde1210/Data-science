{
 "cells": [
  {
   "cell_type": "markdown",
   "metadata": {
    "colab_type": "text",
    "id": "2tD4DDQQ1gJe"
   },
   "source": [
    "# Dictionaries and Structuring Data\n",
    "In this notebook, we will cover the dictionary data type, which provides a flexible way to access and organize data. Then, combining dictionaries with your knowledge of lists from the previous notebooks."
   ]
  },
  {
   "cell_type": "markdown",
   "metadata": {
    "colab_type": "text",
    "id": "RsMCxhdX1gJf"
   },
   "source": [
    "### The Dictionary Data Type"
   ]
  },
  {
   "cell_type": "markdown",
   "metadata": {
    "colab_type": "text",
    "id": "qfRf7J4f1gJg"
   },
   "source": [
    "Like a list, a dictionary is a collection of many values. But unlike indexes for lists, indexes for dictionaries can use many different data types, not just integers. Indexes for dictionaries are called **keys**, and a key with its associated **value** is called a **key-value pair**.\n",
    "\n",
    "In code, a dictionary is typed with braces, **{** and **}**."
   ]
  },
  {
   "cell_type": "code",
   "execution_count": 0,
   "metadata": {
    "colab": {},
    "colab_type": "code",
    "id": "gPBY8QqS1gJh"
   },
   "outputs": [],
   "source": [
    "myCat = {'size': 'fat', 'color': 'gray', 'disposition': 'loud'}"
   ]
  },
  {
   "cell_type": "markdown",
   "metadata": {
    "colab_type": "text",
    "id": "RBGA3Xzd1gJm"
   },
   "source": [
    "This assigns a dictionary to the *myCat* variable. This dictionary’s keys are 'size', 'color', and 'disposition'. The values for these keys are 'fat', 'gray', and 'loud', respectively. You can access these values through their keys:"
   ]
  },
  {
   "cell_type": "code",
   "execution_count": 0,
   "metadata": {
    "colab": {},
    "colab_type": "code",
    "id": "aIOyoiNY1gJn",
    "outputId": "4ce05f1f-09a3-40f1-be38-629b3e7561cd"
   },
   "outputs": [
    {
     "data": {
      "text/plain": [
       "'fat'"
      ]
     },
     "execution_count": 16,
     "metadata": {
      "tags": []
     },
     "output_type": "execute_result"
    }
   ],
   "source": [
    "myCat['size']"
   ]
  },
  {
   "cell_type": "code",
   "execution_count": 0,
   "metadata": {
    "colab": {},
    "colab_type": "code",
    "id": "RWRMhFIo1gJq",
    "outputId": "efef92eb-56b3-4508-ea06-4fb6e9568476"
   },
   "outputs": [
    {
     "data": {
      "text/plain": [
       "'My cat has gray fur.'"
      ]
     },
     "execution_count": 17,
     "metadata": {
      "tags": []
     },
     "output_type": "execute_result"
    }
   ],
   "source": [
    "'My cat has ' + myCat['color'] + ' fur.'"
   ]
  },
  {
   "cell_type": "markdown",
   "metadata": {
    "colab_type": "text",
    "id": "zMcD2sGq1gJt"
   },
   "source": [
    "Dictionaries can still use integer values as keys, just like lists use integers for indexes, but they do not have to start at 0 and can be any number."
   ]
  },
  {
   "cell_type": "code",
   "execution_count": 0,
   "metadata": {
    "colab": {},
    "colab_type": "code",
    "id": "tG9cA-UV1gJu"
   },
   "outputs": [],
   "source": [
    "spam = {12345: 'Luggage Combination', 42: 'The Answer'}"
   ]
  },
  {
   "cell_type": "markdown",
   "metadata": {
    "colab_type": "text",
    "id": "E1Ryqckn1gJy"
   },
   "source": [
    "### Dictionaries vs. Lists"
   ]
  },
  {
   "cell_type": "markdown",
   "metadata": {
    "colab_type": "text",
    "id": "iTND4Wqr1gJz"
   },
   "source": [
    "Unlike lists, items in dictionaries are **unordered**. The first item in a list named spam would be spam[0]. But there is no “first” item in a dictionary. While the order of items matters for determining whether two lists are the same, it does not matter in what order the key-value pairs are typed in a dictionary."
   ]
  },
  {
   "cell_type": "code",
   "execution_count": 0,
   "metadata": {
    "colab": {},
    "colab_type": "code",
    "id": "3t8v5yvU1gJ0"
   },
   "outputs": [],
   "source": [
    "spam = ['cats', 'dogs', 'moose']"
   ]
  },
  {
   "cell_type": "code",
   "execution_count": 0,
   "metadata": {
    "colab": {},
    "colab_type": "code",
    "id": "yxWvPdEF1gJ3"
   },
   "outputs": [],
   "source": [
    "bacon = ['dogs', 'moose', 'cats']"
   ]
  },
  {
   "cell_type": "code",
   "execution_count": 0,
   "metadata": {
    "colab": {},
    "colab_type": "code",
    "id": "uU9HMDbj1gJ6",
    "outputId": "03882ded-cfc8-418e-a3fd-2c8825bc3083"
   },
   "outputs": [
    {
     "data": {
      "text/plain": [
       "False"
      ]
     },
     "execution_count": 21,
     "metadata": {
      "tags": []
     },
     "output_type": "execute_result"
    }
   ],
   "source": [
    "spam == bacon"
   ]
  },
  {
   "cell_type": "code",
   "execution_count": 0,
   "metadata": {
    "colab": {},
    "colab_type": "code",
    "id": "ahwJVHNd1gJ8"
   },
   "outputs": [],
   "source": [
    "eggs = {'name': 'Zophie', 'species': 'cat', 'age': '8'}"
   ]
  },
  {
   "cell_type": "code",
   "execution_count": 0,
   "metadata": {
    "colab": {},
    "colab_type": "code",
    "id": "Ddes-QdF1gJ-"
   },
   "outputs": [],
   "source": [
    "ham = {'species': 'cat', 'age': '8', 'name': 'Zophie'}"
   ]
  },
  {
   "cell_type": "code",
   "execution_count": 0,
   "metadata": {
    "colab": {},
    "colab_type": "code",
    "id": "ha710Wd71gKB",
    "outputId": "1c5de955-9df2-4bcf-a59b-ae771eaa91b6"
   },
   "outputs": [
    {
     "data": {
      "text/plain": [
       "True"
      ]
     },
     "execution_count": 24,
     "metadata": {
      "tags": []
     },
     "output_type": "execute_result"
    }
   ],
   "source": [
    "eggs == ham"
   ]
  },
  {
   "cell_type": "markdown",
   "metadata": {
    "colab_type": "text",
    "id": "6FQbWsn61gKG"
   },
   "source": [
    "**Note:** Because dictionaries are not ordered, they can’t be sliced like lists.\n",
    "\n",
    "Trying to access a key that does not exist in a dictionary will result in a **KeyError error** message, much like a list’s “out-of-range” IndexError error message."
   ]
  },
  {
   "cell_type": "code",
   "execution_count": 0,
   "metadata": {
    "colab": {},
    "colab_type": "code",
    "id": "dbZ83Im71gKH"
   },
   "outputs": [],
   "source": [
    "spam = {'name': 'Zophie', 'age': 7}"
   ]
  },
  {
   "cell_type": "code",
   "execution_count": 0,
   "metadata": {
    "colab": {},
    "colab_type": "code",
    "id": "LYsLAchJ1gKJ",
    "outputId": "a6e1df35-cb61-4546-f66a-d8e26396ad1e"
   },
   "outputs": [
    {
     "ename": "KeyError",
     "evalue": "'color'",
     "output_type": "error",
     "traceback": [
      "\u001b[0;31m---------------------------------------------------------------------------\u001b[0m",
      "\u001b[0;31mKeyError\u001b[0m                                  Traceback (most recent call last)",
      "\u001b[0;32m<ipython-input-3-4ab2633f52b0>\u001b[0m in \u001b[0;36m<module>\u001b[0;34m\u001b[0m\n\u001b[0;32m----> 1\u001b[0;31m \u001b[0mspam\u001b[0m\u001b[0;34m[\u001b[0m\u001b[0;34m'color'\u001b[0m\u001b[0;34m]\u001b[0m\u001b[0;34m\u001b[0m\u001b[0;34m\u001b[0m\u001b[0m\n\u001b[0m",
      "\u001b[0;31mKeyError\u001b[0m: 'color'"
     ]
    }
   ],
   "source": [
    "spam['color']"
   ]
  },
  {
   "cell_type": "markdown",
   "metadata": {
    "colab_type": "text",
    "id": "Hcai4vAR1gKL"
   },
   "source": [
    "Though dictionaries are not ordered, the fact that you can have arbitrary values for the keys allows you to organize your data in powerful ways. Say you wanted your program to store data about your friends’ birthdays. You can use a dictionary with the names as keys and the birthdays as values."
   ]
  },
  {
   "cell_type": "markdown",
   "metadata": {
    "colab_type": "text",
    "id": "7LE5WBqj1gKQ"
   },
   "source": [
    "### Add new / Change  value of  the dictionary \n",
    "\n",
    "We can add a new item into existing dictionary as follow:"
   ]
  },
  {
   "cell_type": "code",
   "execution_count": 0,
   "metadata": {
    "colab": {},
    "colab_type": "code",
    "id": "3JTf7LVK1gKQ",
    "outputId": "a87ba61b-e072-496b-faaf-993dd215a414"
   },
   "outputs": [
    {
     "data": {
      "text/plain": [
       "{'name': 'Zophie', 'age': 7, 'color': 'red', 'species': 'cat'}"
      ]
     },
     "execution_count": 4,
     "metadata": {
      "tags": []
     },
     "output_type": "execute_result"
    }
   ],
   "source": [
    "spam['color']='red'\n",
    "spam['species']='cat'\n",
    "spam"
   ]
  },
  {
   "cell_type": "markdown",
   "metadata": {
    "colab_type": "text",
    "id": "IoQtEpGa1gKT"
   },
   "source": [
    "You can add any value similar as above. Similarly you can replace value of existing key as below."
   ]
  },
  {
   "cell_type": "code",
   "execution_count": 0,
   "metadata": {
    "colab": {},
    "colab_type": "code",
    "id": "VixLonpb1gKT",
    "outputId": "f50c8c17-15c6-4c06-bcdb-6b5922130e31"
   },
   "outputs": [
    {
     "data": {
      "text/plain": [
       "{'name': 'Zophie', 'age': 5, 'color': 'red', 'species': 'dog'}"
      ]
     },
     "execution_count": 5,
     "metadata": {
      "tags": []
     },
     "output_type": "execute_result"
    }
   ],
   "source": [
    "spam['species']='dog'\n",
    "spam['age']=5\n",
    "spam"
   ]
  },
  {
   "cell_type": "markdown",
   "metadata": {
    "colab_type": "text",
    "id": "1IXC3ZML1gKW"
   },
   "source": [
    "It is Quite confusing for the first time, if you look at it carefully you can see that you are just changing the value keeping the key the same.  "
   ]
  },
  {
   "cell_type": "markdown",
   "metadata": {
    "colab_type": "text",
    "id": "dAY2e-HG1gKX"
   },
   "source": [
    "### The *keys()*, *values()*, and *items()* Methods"
   ]
  },
  {
   "cell_type": "markdown",
   "metadata": {
    "colab_type": "text",
    "id": "KrkZYVH_1gKX"
   },
   "source": [
    "There are three dictionary methods that will return list-like values of the dictionary’s keys, values, or both keys and values: *keys()*, *values()* and *items()*. The values returned by these methods are not true lists: They cannot be modified and do not have an append() method. But these data types (dict_keys, dict_values, and dict_items, respectively) can be used in *for* loops (which you will learn later). Lets see how these methods work,"
   ]
  },
  {
   "cell_type": "code",
   "execution_count": 2,
   "metadata": {
    "colab": {
     "base_uri": "https://localhost:8080/",
     "height": 70
    },
    "colab_type": "code",
    "executionInfo": {
     "elapsed": 1579,
     "status": "ok",
     "timestamp": 1585978640427,
     "user": {
      "displayName": "Purva Gaikwad",
      "photoUrl": "",
      "userId": "15623865185376069910"
     },
     "user_tz": -330
    },
    "id": "dc83jjPN1gKY",
    "outputId": "2b0f535c-1fc5-4a2f-a52e-2648c4cfcebb"
   },
   "outputs": [
    {
     "name": "stdout",
     "output_type": "stream",
     "text": [
      "red\n",
      "color red\n",
      "age 42\n"
     ]
    }
   ],
   "source": [
    "spam = {'color': 'red', 'age': 42}\n",
    "print(spam['color'])\n",
    "for (k,v) in spam.items():\n",
    "  print(k,v)"
   ]
  },
  {
   "cell_type": "code",
   "execution_count": 0,
   "metadata": {
    "colab": {},
    "colab_type": "code",
    "id": "lYT6iO131gKa",
    "outputId": "e2230636-43bf-4ca9-d843-28aec5116edb"
   },
   "outputs": [
    {
     "name": "stdout",
     "output_type": "stream",
     "text": [
      "red\n",
      "42\n"
     ]
    }
   ],
   "source": [
    "for v in spam.values():\n",
    "    print(v)"
   ]
  },
  {
   "cell_type": "markdown",
   "metadata": {
    "colab_type": "text",
    "id": "k4Z63Qgn1gKd"
   },
   "source": [
    "Here, a for loop iterates over each of the values in the spam dictionary. A for loop can also iterate over the keys or both keys and values:"
   ]
  },
  {
   "cell_type": "code",
   "execution_count": 0,
   "metadata": {
    "colab": {},
    "colab_type": "code",
    "id": "muWv9tGk1gKd",
    "outputId": "de6eb73c-e075-4689-82e7-140213b9794f"
   },
   "outputs": [
    {
     "name": "stdout",
     "output_type": "stream",
     "text": [
      "color\n",
      "age\n"
     ]
    }
   ],
   "source": [
    "for k in spam.keys():\n",
    "        print(k)"
   ]
  },
  {
   "cell_type": "code",
   "execution_count": 0,
   "metadata": {
    "colab": {},
    "colab_type": "code",
    "id": "y4tRc9DN1gKf",
    "outputId": "30cd3784-3bd0-491c-ad86-72101e5a13de"
   },
   "outputs": [
    {
     "name": "stdout",
     "output_type": "stream",
     "text": [
      "('color', 'red')\n",
      "('age', 42)\n"
     ]
    }
   ],
   "source": [
    "for i in spam.items():\n",
    "        print(i)"
   ]
  },
  {
   "cell_type": "markdown",
   "metadata": {
    "colab_type": "text",
    "id": "qWrrYBZS1gKh"
   },
   "source": [
    "Using the *keys()*, *values()*, and *items()* methods, a for loop can iterate over the keys, values, or key-value pairs in a dictionary, respectively. Notice that the values in the dict_items value returned by the *items()* method are tuples of the key and value.\n",
    "\n",
    "If you want a true list from one of these methods, pass its list-like return value to the *list()* function."
   ]
  },
  {
   "cell_type": "code",
   "execution_count": 0,
   "metadata": {
    "colab": {},
    "colab_type": "code",
    "id": "vQWuZUze1gKh"
   },
   "outputs": [],
   "source": [
    "spam = {'color': 'red', 'age': 42}"
   ]
  },
  {
   "cell_type": "code",
   "execution_count": 0,
   "metadata": {
    "colab": {},
    "colab_type": "code",
    "id": "n680x8f51gKk",
    "outputId": "0d1a1e6f-e280-4df1-c0b8-05c7df11228c"
   },
   "outputs": [
    {
     "data": {
      "text/plain": [
       "dict_keys(['color', 'age'])"
      ]
     },
     "execution_count": 120,
     "metadata": {
      "tags": []
     },
     "output_type": "execute_result"
    }
   ],
   "source": [
    "spam.keys()"
   ]
  },
  {
   "cell_type": "code",
   "execution_count": 0,
   "metadata": {
    "colab": {},
    "colab_type": "code",
    "id": "claoNagi1gKm",
    "outputId": "528f89f5-7ab4-48e1-a312-8ce2c87cb5e3"
   },
   "outputs": [
    {
     "data": {
      "text/plain": [
       "['color', 'age']"
      ]
     },
     "execution_count": 121,
     "metadata": {
      "tags": []
     },
     "output_type": "execute_result"
    }
   ],
   "source": [
    "list(spam.keys())"
   ]
  },
  {
   "cell_type": "markdown",
   "metadata": {
    "colab_type": "text",
    "id": "WVx9B8P31gKo"
   },
   "source": [
    "The `list(spam.keys())` line takes the dict_keys value returned from keys() and passes it to list(), which then returns a list value of ['color', 'age'].\n",
    "\n",
    "You can also use the multiple assignment trick in a for loop to assign the key and value to separate variables."
   ]
  },
  {
   "cell_type": "code",
   "execution_count": 0,
   "metadata": {
    "colab": {},
    "colab_type": "code",
    "id": "_oS_tBYw1gKo",
    "outputId": "90a0b089-2b82-4826-c19f-02486cec675d"
   },
   "outputs": [
    {
     "name": "stdout",
     "output_type": "stream",
     "text": [
      "Key: color Value: red\n",
      "Key: age Value: 42\n"
     ]
    }
   ],
   "source": [
    "for k, v in spam.items():\n",
    "        print('Key: ' + k + ' Value: ' + str(v))"
   ]
  },
  {
   "cell_type": "markdown",
   "metadata": {
    "colab_type": "text",
    "id": "Gi39XX9k1gKr"
   },
   "source": [
    "### Checking Whether a Key or Value Exists in a Dictionary"
   ]
  },
  {
   "cell_type": "markdown",
   "metadata": {
    "colab_type": "text",
    "id": "sxIniTiE1gKr"
   },
   "source": [
    "Recall, the *in* and *not* in operators can check whether a value exists in a list. You can also use these operators to see whether a certain key or value exists in a dictionary."
   ]
  },
  {
   "cell_type": "code",
   "execution_count": 13,
   "metadata": {
    "colab": {},
    "colab_type": "code",
    "id": "YdU7t0XT1gKr"
   },
   "outputs": [],
   "source": [
    "spam = {'name': 'Zophie', 'age': 7}"
   ]
  },
  {
   "cell_type": "code",
   "execution_count": 2,
   "metadata": {},
   "outputs": [],
   "source": [
    "\n",
    "del spam['name']"
   ]
  },
  {
   "cell_type": "code",
   "execution_count": 11,
   "metadata": {},
   "outputs": [
    {
     "ename": "KeyError",
     "evalue": "'popitem(): dictionary is empty'",
     "output_type": "error",
     "traceback": [
      "\u001b[1;31m---------------------------------------------------------------------------\u001b[0m",
      "\u001b[1;31mKeyError\u001b[0m                                  Traceback (most recent call last)",
      "\u001b[1;32m<ipython-input-11-3b9ab9a1c9c7>\u001b[0m in \u001b[0;36m<module>\u001b[1;34m\u001b[0m\n\u001b[1;32m----> 1\u001b[1;33m \u001b[0mspam\u001b[0m\u001b[1;33m.\u001b[0m\u001b[0mpopitem\u001b[0m\u001b[1;33m(\u001b[0m\u001b[1;33m)\u001b[0m\u001b[1;33m\u001b[0m\u001b[1;33m\u001b[0m\u001b[0m\n\u001b[0m",
      "\u001b[1;31mKeyError\u001b[0m: 'popitem(): dictionary is empty'"
     ]
    }
   ],
   "source": [
    "spam.popitem()"
   ]
  },
  {
   "cell_type": "code",
   "execution_count": 0,
   "metadata": {
    "colab": {},
    "colab_type": "code",
    "id": "0vL7Gr_a1gKt",
    "outputId": "b0d5a55d-0179-4023-9932-ed301d96d817"
   },
   "outputs": [
    {
     "data": {
      "text/plain": [
       "True"
      ]
     },
     "execution_count": 34,
     "metadata": {
      "tags": []
     },
     "output_type": "execute_result"
    }
   ],
   "source": [
    "'name' in spam.keys()"
   ]
  },
  {
   "cell_type": "code",
   "execution_count": 0,
   "metadata": {
    "colab": {},
    "colab_type": "code",
    "id": "wp_-FVaz1gKv",
    "outputId": "625cb456-d919-4e27-f4b7-cdb1557ba0dd"
   },
   "outputs": [
    {
     "data": {
      "text/plain": [
       "True"
      ]
     },
     "execution_count": 35,
     "metadata": {
      "tags": []
     },
     "output_type": "execute_result"
    }
   ],
   "source": [
    "'Zophie' in spam.values()"
   ]
  },
  {
   "cell_type": "code",
   "execution_count": 0,
   "metadata": {
    "colab": {},
    "colab_type": "code",
    "id": "fMsQz05f1gKx",
    "outputId": "62c77e42-9bf6-4119-83f7-cdd5fb589817"
   },
   "outputs": [
    {
     "data": {
      "text/plain": [
       "False"
      ]
     },
     "execution_count": 36,
     "metadata": {
      "tags": []
     },
     "output_type": "execute_result"
    }
   ],
   "source": [
    "'color' in spam.keys()"
   ]
  },
  {
   "cell_type": "code",
   "execution_count": 0,
   "metadata": {
    "colab": {},
    "colab_type": "code",
    "id": "O4Mp0Bmf1gK0",
    "outputId": "a7676bc3-602b-4eeb-bf5e-f8392f58672a"
   },
   "outputs": [
    {
     "data": {
      "text/plain": [
       "True"
      ]
     },
     "execution_count": 37,
     "metadata": {
      "tags": []
     },
     "output_type": "execute_result"
    }
   ],
   "source": [
    "'color' not in spam.keys()"
   ]
  },
  {
   "cell_type": "code",
   "execution_count": 0,
   "metadata": {
    "colab": {},
    "colab_type": "code",
    "id": "L36kCfL41gK2",
    "outputId": "316cb49e-e910-450b-ff77-820610f8f7d5"
   },
   "outputs": [
    {
     "data": {
      "text/plain": [
       "False"
      ]
     },
     "execution_count": 38,
     "metadata": {
      "tags": []
     },
     "output_type": "execute_result"
    }
   ],
   "source": [
    "'color' in spam"
   ]
  },
  {
   "cell_type": "markdown",
   "metadata": {
    "colab_type": "text",
    "id": "oG6NlAdO1gK4"
   },
   "source": [
    "In the previous example, notice that *'color'* in *spam* is essentially a shorter version of writing *'color'* in `spam.keys()`. This is always the case: If you ever want to check whether a value is (or isn’t) a key in the dictionary, you can simply use the *in* (or *not in*) keyword with the dictionary value itself."
   ]
  },
  {
   "cell_type": "markdown",
   "metadata": {
    "colab_type": "text",
    "id": "8X-Fbyvd1gK5"
   },
   "source": [
    "### Nested Dictionaries and Lists"
   ]
  },
  {
   "cell_type": "markdown",
   "metadata": {
    "colab_type": "text",
    "id": "EDfXFRvj1gK5"
   },
   "source": [
    "As you model more complicated things, you may find you need dictionaries and lists that contain other dictionaries and lists. Lists are useful to contain an **ordered series** of values, and dictionaries are useful for **associating keys with values**. "
   ]
  },
  {
   "cell_type": "markdown",
   "metadata": {
    "colab_type": "text",
    "id": "JzUtdmWK1gK6"
   },
   "source": [
    "## Summary"
   ]
  },
  {
   "cell_type": "markdown",
   "metadata": {
    "colab_type": "text",
    "id": "ycYfmrxB1gK6"
   },
   "source": [
    "Lists and dictionaries are values that can contain multiple values, including other lists and dictionaries. \n",
    "\n",
    "Dictionaries are useful because you can map one item (the key) to another (the value), as opposed to lists, which simply contain a series of values in order. \n",
    "\n",
    "Values inside a dictionary are accessed using square brackets just as with lists. Instead of an integer index, dictionaries can have keys of a variety of data types: integers, floats, strings, or tuples. \n",
    "\n",
    "By organizing a program’s values into data structures, you can create representations of real-world objects."
   ]
  }
 ],
 "metadata": {
  "colab": {
   "name": "Dictionary.ipynb",
   "provenance": []
  },
  "kernelspec": {
   "display_name": "Python 3",
   "language": "python",
   "name": "python3"
  },
  "language_info": {
   "codemirror_mode": {
    "name": "ipython",
    "version": 3
   },
   "file_extension": ".py",
   "mimetype": "text/x-python",
   "name": "python",
   "nbconvert_exporter": "python",
   "pygments_lexer": "ipython3",
   "version": "3.7.3"
  }
 },
 "nbformat": 4,
 "nbformat_minor": 1
}
