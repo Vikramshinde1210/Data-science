{
 "cells": [
  {
   "cell_type": "code",
   "execution_count": 1,
   "metadata": {},
   "outputs": [
    {
     "ename": "ModuleNotFoundError",
     "evalue": "No module named 'dash'",
     "output_type": "error",
     "traceback": [
      "\u001b[1;31m---------------------------------------------------------------------------\u001b[0m",
      "\u001b[1;31mModuleNotFoundError\u001b[0m                       Traceback (most recent call last)",
      "\u001b[1;32m<ipython-input-1-35b4eec84bd8>\u001b[0m in \u001b[0;36m<module>\u001b[1;34m\u001b[0m\n\u001b[1;32m----> 1\u001b[1;33m \u001b[1;32mimport\u001b[0m \u001b[0mdash\u001b[0m\u001b[1;33m\u001b[0m\u001b[1;33m\u001b[0m\u001b[0m\n\u001b[0m\u001b[0;32m      2\u001b[0m \u001b[1;32mimport\u001b[0m \u001b[0mdash_core_components\u001b[0m \u001b[1;32mas\u001b[0m \u001b[0mdcc\u001b[0m\u001b[1;33m\u001b[0m\u001b[1;33m\u001b[0m\u001b[0m\n\u001b[0;32m      3\u001b[0m \u001b[1;32mimport\u001b[0m \u001b[0mdash_html_components\u001b[0m \u001b[1;32mas\u001b[0m \u001b[0mhtml\u001b[0m\u001b[1;33m\u001b[0m\u001b[1;33m\u001b[0m\u001b[0m\n\u001b[0;32m      4\u001b[0m \u001b[1;32mfrom\u001b[0m \u001b[0mdash\u001b[0m\u001b[1;33m.\u001b[0m\u001b[0mdependencies\u001b[0m \u001b[1;32mimport\u001b[0m \u001b[0mInput\u001b[0m\u001b[1;33m,\u001b[0m \u001b[0mOutput\u001b[0m\u001b[1;33m,\u001b[0m \u001b[0mState\u001b[0m\u001b[1;33m\u001b[0m\u001b[1;33m\u001b[0m\u001b[0m\n\u001b[0;32m      5\u001b[0m \u001b[1;32mimport\u001b[0m \u001b[0mpandas_datareader\u001b[0m\u001b[1;33m.\u001b[0m\u001b[0mdata\u001b[0m \u001b[1;32mas\u001b[0m \u001b[0mweb\u001b[0m \u001b[1;31m# requires v0.6.0 or later\u001b[0m\u001b[1;33m\u001b[0m\u001b[1;33m\u001b[0m\u001b[0m\n",
      "\u001b[1;31mModuleNotFoundError\u001b[0m: No module named 'dash'"
     ]
    }
   ],
   "source": [
    "import dash\n",
    "import dash_core_components as dcc\n",
    "import dash_html_components as html\n",
    "from dash.dependencies import Input, Output, State\n",
    "import pandas_datareader.data as web # requires v0.6.0 or later\n",
    "from datetime import datetime\n",
    "import pandas as pd\n"
   ]
  },
  {
   "cell_type": "code",
   "execution_count": null,
   "metadata": {},
   "outputs": [],
   "source": [
    "# import plotly.graph_objs as go\n",
    "!pip install dash"
   ]
  },
  {
   "cell_type": "code",
   "execution_count": 3,
   "metadata": {},
   "outputs": [],
   "source": [
    "comp = pd.read_csv(r'C:\\Users\\vicky\\Downloads\\company.csv')\n",
    "comp.set_index('Symbol',inplace=True)"
   ]
  },
  {
   "cell_type": "code",
   "execution_count": 4,
   "metadata": {},
   "outputs": [],
   "source": [
    "options = []\n",
    "for tic in comp.index:\n",
    "    options.append({'label':'{} {}'.format(tic,comp.loc[tic]['Name']), 'value':tic})"
   ]
  },
  {
   "cell_type": "code",
   "execution_count": null,
   "metadata": {},
   "outputs": [],
   "source": []
  },
  {
   "cell_type": "code",
   "execution_count": 5,
   "metadata": {},
   "outputs": [],
   "source": [
    "app = dash.Dash()"
   ]
  },
  {
   "cell_type": "code",
   "execution_count": 6,
   "metadata": {},
   "outputs": [],
   "source": [
    "app.layout = html.Div([\n",
    "    html.H1('Stock Ticker Dashboard'),\n",
    "    html.Div([\n",
    "        html.H3('Select stock symbols:', style={'paddingRight':'30px'}),\n",
    "        dcc.Dropdown(\n",
    "            id='my_ticker_symbol',\n",
    "            options=options,\n",
    "            value=['TSLA'],\n",
    "            multi=True\n",
    "        )\n",
    "    ], style={'display':'inline-block', 'verticalAlign':'top', 'width':'30%'}),\n",
    "    html.Div([\n",
    "        html.H3('Select start and end dates:'),\n",
    "        dcc.DatePickerRange(\n",
    "            id='my_date_picker',\n",
    "            min_date_allowed=datetime(2015, 1, 1),\n",
    "            max_date_allowed=datetime.today(),\n",
    "            start_date=datetime(2018, 1, 1),\n",
    "            end_date=datetime.today()\n",
    "        )\n",
    "    ], style={'display':'inline-block'}),\n",
    "    html.Div([\n",
    "        html.Button(\n",
    "            id='submit-button',\n",
    "            n_clicks=0,\n",
    "            children='Submit',\n",
    "            style={'fontSize':24, 'marginLeft':'30px'}\n",
    "        ),\n",
    "    ], style={'display':'inline-block'}),\n",
    "    dcc.Graph(\n",
    "        id='my_graph',\n",
    "        figure={\n",
    "            'data': [\n",
    "                {'x': [1,2], 'y': [3,1]}\n",
    "            ]\n",
    "        }\n",
    "    )\n",
    "])"
   ]
  },
  {
   "cell_type": "code",
   "execution_count": 7,
   "metadata": {},
   "outputs": [],
   "source": [
    "@app.callback(\n",
    "    Output('my_graph', 'figure'),\n",
    "    [Input('submit-button', 'n_clicks')],\n",
    "    [State('my_ticker_symbol', 'value'),\n",
    "    State('my_date_picker', 'start_date'),\n",
    "    State('my_date_picker', 'end_date')])\n",
    "def update_graph(n_clicks, stock_ticker, start_date, end_date):\n",
    "    start = datetime.strptime(start_date[:10], '%Y-%m-%d')\n",
    "    end = datetime.strptime(end_date[:10], '%Y-%m-%d')\n",
    "    traces = []\n",
    "    for tic in stock_ticker:\n",
    "        df = web.DataReader(tic,'yahoo',start,end)\n",
    "        traces.append({'x':df.index, 'y': df.Close, 'name':tic})\n",
    "    fig = {\n",
    "        'data': traces,\n",
    "        'layout': {'title':', '.join(stock_ticker)+' Closing Prices'}\n",
    "    }\n",
    "    return fig"
   ]
  },
  {
   "cell_type": "code",
   "execution_count": 8,
   "metadata": {},
   "outputs": [
    {
     "name": "stdout",
     "output_type": "stream",
     "text": [
      "Dash is running on http://127.0.0.1:8050/\n",
      "\n",
      " * Serving Flask app \"__main__\" (lazy loading)\n",
      " * Environment: production\n",
      "   WARNING: This is a development server. Do not use it in a production deployment.\n",
      "   Use a production WSGI server instead.\n",
      " * Debug mode: off\n"
     ]
    },
    {
     "name": "stderr",
     "output_type": "stream",
     "text": [
      " * Running on http://127.0.0.1:8050/ (Press CTRL+C to quit)\n",
      "127.0.0.1 - - [18/Sep/2020 09:56:39] \"\u001b[37mGET / HTTP/1.1\u001b[0m\" 200 -\n",
      "127.0.0.1 - - [18/Sep/2020 09:56:39] \"\u001b[37mGET /_dash-layout HTTP/1.1\u001b[0m\" 200 -\n",
      "127.0.0.1 - - [18/Sep/2020 09:56:39] \"\u001b[37mGET /_dash-dependencies HTTP/1.1\u001b[0m\" 200 -\n",
      "127.0.0.1 - - [18/Sep/2020 09:56:41] \"\u001b[37mPOST /_dash-update-component HTTP/1.1\u001b[0m\" 200 -\n",
      "127.0.0.1 - - [18/Sep/2020 09:56:51] \"\u001b[37mPOST /_dash-update-component HTTP/1.1\u001b[0m\" 200 -\n",
      "127.0.0.1 - - [18/Sep/2020 09:57:17] \"\u001b[37mPOST /_dash-update-component HTTP/1.1\u001b[0m\" 200 -\n",
      "127.0.0.1 - - [18/Sep/2020 09:57:30] \"\u001b[37mPOST /_dash-update-component HTTP/1.1\u001b[0m\" 200 -\n"
     ]
    }
   ],
   "source": [
    "if __name__==\"__main__\":\n",
    "    app.run_server()"
   ]
  },
  {
   "cell_type": "code",
   "execution_count": null,
   "metadata": {},
   "outputs": [],
   "source": []
  }
 ],
 "metadata": {
  "kernelspec": {
   "display_name": "Python 3",
   "language": "python",
   "name": "python3"
  },
  "language_info": {
   "codemirror_mode": {
    "name": "ipython",
    "version": 3
   },
   "file_extension": ".py",
   "mimetype": "text/x-python",
   "name": "python",
   "nbconvert_exporter": "python",
   "pygments_lexer": "ipython3",
   "version": "3.8.3"
  }
 },
 "nbformat": 4,
 "nbformat_minor": 4
}
