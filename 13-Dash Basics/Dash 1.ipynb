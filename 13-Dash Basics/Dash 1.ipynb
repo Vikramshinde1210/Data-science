{
 "cells": [
  {
   "cell_type": "markdown",
   "metadata": {},
   "source": [
    "Dash is used for creating dashboards purely in Python<br>\n",
    "These dashboards are served as web applications that you can deploy, not static .html files<br>\n",
    "we can then connect and interact with the dashboards"
   ]
  },
  {
   "cell_type": "markdown",
   "metadata": {},
   "source": [
    "Dash apps compose of two parts \n",
    "1. layout of the app and it describes what the application looks like\n",
    "2. Second part describes the interactivity of the application\n",
    "\n",
    "we don't need to know any HTML or CSS to use Dash <br>\n",
    "Most html tags are provided as Python Classes<br>\n",
    "For Example<br>\n",
    " html.H1(children=\"Hello Dash\")<br>\n",
    " \n",
    " is same as<br>\n",
    " \n",
    "\n",
    "<h1>Hello Dash<h1><br>\n"
   ]
  },
  {
   "cell_type": "markdown",
   "metadata": {},
   "source": [
    "Dash offers two distict component libraries<br>\n",
    "the above code comes from dash_html_components libarary which has a component for every HTML tag, like the first level heading H1<br>\n",
    "Another library, dash_core_components, offers higher-level, interactive components that are generated with js, html and css through the React.js library"
   ]
  },
  {
   "cell_type": "markdown",
   "metadata": {},
   "source": [
    "Dash is declarative"
   ]
  },
  {
   "cell_type": "markdown",
   "metadata": {},
   "source": [
    "# Basic Dash Layout "
   ]
  },
  {
   "cell_type": "code",
   "execution_count": 1,
   "metadata": {},
   "outputs": [],
   "source": [
    "import dash \n",
    "import dash_core_components as dcc\n",
    "import dash_html_components as html"
   ]
  },
  {
   "cell_type": "code",
   "execution_count": 2,
   "metadata": {},
   "outputs": [],
   "source": [
    "app = dash.Dash()"
   ]
  },
  {
   "cell_type": "code",
   "execution_count": 3,
   "metadata": {},
   "outputs": [],
   "source": [
    "#styling call  colors['key']\n",
    "\n",
    "\n",
    "colors = {'background':'#111111','text':'#7FDBFF'}\n",
    "\n",
    "app.layout = html.Div(children=[\n",
    "    html.H1('Hello Dash!',style={'textAlign':'center',\n",
    "                                'color':colors['text']}),\n",
    "    \n",
    "    html.Div('Dash: Web Dashboards with Python'),\n",
    "    dcc.Graph(id='example',\n",
    "             figure={'data':[\n",
    "                 {'x':[1,2,3],'y':[4,1,2],'type':'bar','name':'SF'},\n",
    "                 {'x':[1,2,3],'y':[2,4,5],'type':'bar','name':'NYC'}\n",
    "             ],\n",
    "                    'layout':{\n",
    "                        'plot_bgcolor':colors['background'],\n",
    "                        'paper_bgcolor':colors['background'],\n",
    "                        'font':{'color':colors['text']},\n",
    "                        'title':'BAR PLOT'}\n",
    "                    }\n",
    "             )\n",
    "    \n",
    "],style={'backgroundColor':colors['background']})"
   ]
  },
  {
   "cell_type": "code",
   "execution_count": null,
   "metadata": {},
   "outputs": [
    {
     "name": "stdout",
     "output_type": "stream",
     "text": [
      "Dash is running on http://127.0.0.1:8050/\n",
      "\n",
      " * Serving Flask app \"__main__\" (lazy loading)\n",
      " * Environment: production\n",
      "   WARNING: This is a development server. Do not use it in a production deployment.\n",
      "   Use a production WSGI server instead.\n",
      " * Debug mode: off\n"
     ]
    },
    {
     "name": "stderr",
     "output_type": "stream",
     "text": [
      " * Running on http://127.0.0.1:8050/ (Press CTRL+C to quit)\n",
      "127.0.0.1 - - [25/Oct/2020 13:34:05] \"\u001b[37mGET / HTTP/1.1\u001b[0m\" 200 -\n",
      "127.0.0.1 - - [25/Oct/2020 13:34:05] \"\u001b[37mGET /_dash-layout HTTP/1.1\u001b[0m\" 200 -\n",
      "127.0.0.1 - - [25/Oct/2020 13:34:05] \"\u001b[37mGET /_dash-dependencies HTTP/1.1\u001b[0m\" 200 -\n",
      "127.0.0.1 - - [25/Oct/2020 13:34:05] \"\u001b[37mGET /_dash-component-suites/dash_core_components/async-plotlyjs.v1_12_1m1600286997.js HTTP/1.1\u001b[0m\" 200 -\n",
      "127.0.0.1 - - [25/Oct/2020 13:34:05] \"\u001b[37mGET /_dash-component-suites/dash_core_components/async-graph.v1_12_1m1600286997.js HTTP/1.1\u001b[0m\" 200 -\n"
     ]
    }
   ],
   "source": [
    "if __name__ == '__main__':\n",
    "     app.run_server()"
   ]
  },
  {
   "cell_type": "markdown",
   "metadata": {},
   "source": [
    "Dash allows us to easily insert plotly graphs into dashboard"
   ]
  },
  {
   "cell_type": "code",
   "execution_count": null,
   "metadata": {},
   "outputs": [],
   "source": []
  }
 ],
 "metadata": {
  "kernelspec": {
   "display_name": "Python 3",
   "language": "python",
   "name": "python3"
  },
  "language_info": {
   "codemirror_mode": {
    "name": "ipython",
    "version": 3
   },
   "file_extension": ".py",
   "mimetype": "text/x-python",
   "name": "python",
   "nbconvert_exporter": "python",
   "pygments_lexer": "ipython3",
   "version": "3.8.3"
  }
 },
 "nbformat": 4,
 "nbformat_minor": 4
}
