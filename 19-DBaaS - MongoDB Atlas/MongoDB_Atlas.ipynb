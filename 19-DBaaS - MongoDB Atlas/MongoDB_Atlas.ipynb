{
 "cells": [
  {
   "cell_type": "code",
   "execution_count": 5,
   "metadata": {},
   "outputs": [],
   "source": [
    "import pymongo\n",
    "client = pymongo.MongoClient(<Connection string goes here>)"
   ]
  },
  {
   "cell_type": "code",
   "execution_count": 22,
   "metadata": {},
   "outputs": [],
   "source": [
    "db = client.list_databases()"
   ]
  },
  {
   "cell_type": "code",
   "execution_count": 23,
   "metadata": {},
   "outputs": [
    {
     "name": "stdout",
     "output_type": "stream",
     "text": [
      "{'name': 'Students', 'sizeOnDisk': 16384.0, 'empty': False}\n",
      "{'name': 'm201', 'sizeOnDisk': 2256896.0, 'empty': False}\n",
      "{'name': 'sample_airbnb', 'sizeOnDisk': 58052608.0, 'empty': False}\n",
      "{'name': 'sample_analytics', 'sizeOnDisk': 9256960.0, 'empty': False}\n",
      "{'name': 'sample_geospatial', 'sizeOnDisk': 1007616.0, 'empty': False}\n",
      "{'name': 'sample_mflix', 'sizeOnDisk': 43233280.0, 'empty': False}\n",
      "{'name': 'sample_restaurants', 'sizeOnDisk': 6201344.0, 'empty': False}\n",
      "{'name': 'sample_supplies', 'sizeOnDisk': 983040.0, 'empty': False}\n",
      "{'name': 'sample_training', 'sizeOnDisk': 66809856.0, 'empty': False}\n",
      "{'name': 'sample_weatherdata', 'sizeOnDisk': 2482176.0, 'empty': False}\n",
      "{'name': 'video', 'sizeOnDisk': 847872.0, 'empty': False}\n",
      "{'name': 'admin', 'sizeOnDisk': 294912.0, 'empty': False}\n",
      "{'name': 'local', 'sizeOnDisk': 4425936896.0, 'empty': False}\n"
     ]
    }
   ],
   "source": [
    "for i in db:\n",
    "    print(i)"
   ]
  },
  {
   "cell_type": "code",
   "execution_count": 16,
   "metadata": {},
   "outputs": [],
   "source": [
    "database = client['Students']"
   ]
  },
  {
   "cell_type": "code",
   "execution_count": 17,
   "metadata": {},
   "outputs": [
    {
     "data": {
      "text/plain": [
       "[]"
      ]
     },
     "execution_count": 17,
     "metadata": {},
     "output_type": "execute_result"
    }
   ],
   "source": [
    "database.list_collection_names()"
   ]
  },
  {
   "cell_type": "code",
   "execution_count": 18,
   "metadata": {},
   "outputs": [],
   "source": [
    "collection = database['Scores']"
   ]
  },
  {
   "cell_type": "code",
   "execution_count": 19,
   "metadata": {},
   "outputs": [
    {
     "name": "stderr",
     "output_type": "stream",
     "text": [
      "<ipython-input-19-7c4bc5758cb0>:1: DeprecationWarning: count is deprecated. Use estimated_document_count or count_documents instead. Please note that $where must be replaced by $expr, $near must be replaced by $geoWithin with $center, and $nearSphere must be replaced by $geoWithin with $centerSphere\n",
      "  collection.count()\n"
     ]
    },
    {
     "data": {
      "text/plain": [
       "0"
      ]
     },
     "execution_count": 19,
     "metadata": {},
     "output_type": "execute_result"
    }
   ],
   "source": [
    "collection.count()"
   ]
  },
  {
   "cell_type": "code",
   "execution_count": 38,
   "metadata": {},
   "outputs": [],
   "source": [
    "data = [\n",
    "    dict(user='abc',sub='dbms',score='99'),\n",
    "    dict(user='pqr',sub='dbms',score='90'),\n",
    "    dict(user='xyz',sub='dbms',score='95')\n",
    "]"
   ]
  },
  {
   "cell_type": "code",
   "execution_count": 39,
   "metadata": {},
   "outputs": [
    {
     "data": {
      "text/plain": [
       "<pymongo.results.InsertManyResult at 0x1c32ed42540>"
      ]
     },
     "execution_count": 39,
     "metadata": {},
     "output_type": "execute_result"
    }
   ],
   "source": [
    "collection.insert_many(data)"
   ]
  },
  {
   "cell_type": "code",
   "execution_count": 40,
   "metadata": {},
   "outputs": [],
   "source": [
    "doc = collection.find({})"
   ]
  },
  {
   "cell_type": "code",
   "execution_count": 41,
   "metadata": {},
   "outputs": [
    {
     "data": {
      "text/plain": [
       "{'_id': ObjectId('5f72af833c25a33063e7a348'),\n",
       " 'user': 'xyz',\n",
       " 'sub': 'dbms',\n",
       " 'score': 95}"
      ]
     },
     "execution_count": 41,
     "metadata": {},
     "output_type": "execute_result"
    }
   ],
   "source": [
    "doc[2]"
   ]
  },
  {
   "cell_type": "code",
   "execution_count": 48,
   "metadata": {},
   "outputs": [],
   "source": [
    "fil = {'score':{'$gte':90}}\n",
    "res = collection.find(fil)"
   ]
  },
  {
   "cell_type": "code",
   "execution_count": 49,
   "metadata": {},
   "outputs": [
    {
     "name": "stdout",
     "output_type": "stream",
     "text": [
      "{'_id': ObjectId('5f72af833c25a33063e7a346'), 'user': 'abc', 'sub': 'dbms', 'score': 99}\n",
      "{'_id': ObjectId('5f72af833c25a33063e7a347'), 'user': 'pqr', 'sub': 'dbms', 'score': 90}\n",
      "{'_id': ObjectId('5f72af833c25a33063e7a348'), 'user': 'xyz', 'sub': 'dbms', 'score': 95}\n"
     ]
    }
   ],
   "source": [
    "\n",
    "for i in res:\n",
    "    print(i)"
   ]
  },
  {
   "cell_type": "code",
   "execution_count": 50,
   "metadata": {},
   "outputs": [],
   "source": [
    "fil = {'score':{'$gte':90}}\n",
    "x = collection.delete_many(fil)"
   ]
  },
  {
   "cell_type": "code",
   "execution_count": 51,
   "metadata": {},
   "outputs": [
    {
     "data": {
      "text/plain": [
       "3"
      ]
     },
     "execution_count": 51,
     "metadata": {},
     "output_type": "execute_result"
    }
   ],
   "source": [
    "x.deleted_count"
   ]
  },
  {
   "cell_type": "code",
   "execution_count": null,
   "metadata": {},
   "outputs": [],
   "source": []
  }
 ],
 "metadata": {
  "kernelspec": {
   "display_name": "Python 3",
   "language": "python",
   "name": "python3"
  },
  "language_info": {
   "codemirror_mode": {
    "name": "ipython",
    "version": 3
   },
   "file_extension": ".py",
   "mimetype": "text/x-python",
   "name": "python",
   "nbconvert_exporter": "python",
   "pygments_lexer": "ipython3",
   "version": "3.8.3"
  }
 },
 "nbformat": 4,
 "nbformat_minor": 4
}
