{
 "cells": [
  {
   "cell_type": "code",
   "execution_count": null,
   "metadata": {},
   "outputs": [
    {
     "name": "stdout",
     "output_type": "stream",
     "text": [
      "Dash is running on http://127.0.0.1:8050/\n",
      "\n",
      " * Serving Flask app \"__main__\" (lazy loading)\n",
      " * Environment: production\n",
      "   WARNING: This is a development server. Do not use it in a production deployment.\n",
      "   Use a production WSGI server instead.\n",
      " * Debug mode: off\n"
     ]
    },
    {
     "name": "stderr",
     "output_type": "stream",
     "text": [
      " * Running on http://127.0.0.1:8050/ (Press CTRL+C to quit)\n",
      "127.0.0.1 - - [16/Sep/2020 17:56:45] \"\u001b[37mGET / HTTP/1.1\u001b[0m\" 200 -\n",
      "127.0.0.1 - - [16/Sep/2020 17:56:45] \"\u001b[37mGET /_dash-layout HTTP/1.1\u001b[0m\" 200 -\n",
      "127.0.0.1 - - [16/Sep/2020 17:56:45] \"\u001b[37mGET /_dash-dependencies HTTP/1.1\u001b[0m\" 200 -\n"
     ]
    },
    {
     "name": "stdout",
     "output_type": "stream",
     "text": [
      "Exception on /_dash-update-component [POST]\n",
      "Traceback (most recent call last):\n",
      "  File \"e:\\ocr\\lib\\site-packages\\flask\\app.py\", line 2447, in wsgi_app\n",
      "    response = self.full_dispatch_request()\n",
      "  File \"e:\\ocr\\lib\\site-packages\\flask\\app.py\", line 1952, in full_dispatch_request\n",
      "    rv = self.handle_user_exception(e)\n",
      "  File \"e:\\ocr\\lib\\site-packages\\flask\\app.py\", line 1821, in handle_user_exception\n",
      "    reraise(exc_type, exc_value, tb)\n",
      "  File \"e:\\ocr\\lib\\site-packages\\flask\\_compat.py\", line 39, in reraise\n",
      "    raise value\n",
      "  File \"e:\\ocr\\lib\\site-packages\\flask\\app.py\", line 1950, in full_dispatch_request\n",
      "    rv = self.dispatch_request()\n",
      "  File \"e:\\ocr\\lib\\site-packages\\flask\\app.py\", line 1936, in dispatch_request\n",
      "    return self.view_functions[rule.endpoint](**req.view_args)\n",
      "  File \"e:\\ocr\\lib\\site-packages\\dash\\dash.py\", line 1059, in dispatch\n",
      "    response.set_data(func(*args, outputs_list=outputs_list))\n",
      "  File \"e:\\ocr\\lib\\site-packages\\dash\\dash.py\", line 994, in add_context\n",
      "    output_value = func(*args, **kwargs)  # %% callback invoked %%\n",
      "  File \"<ipython-input-1-623dae6f318e>\", line 53, in find_density\n",
      "    pts = len(selectedData['points'])\n",
      "TypeError: 'NoneType' object is not subscriptable\n"
     ]
    },
    {
     "name": "stderr",
     "output_type": "stream",
     "text": [
      "127.0.0.1 - - [16/Sep/2020 17:56:46] \"\u001b[35m\u001b[1mPOST /_dash-update-component HTTP/1.1\u001b[0m\" 500 -\n",
      "127.0.0.1 - - [16/Sep/2020 17:56:56] \"\u001b[37mPOST /_dash-update-component HTTP/1.1\u001b[0m\" 200 -\n"
     ]
    }
   ],
   "source": [
    "\n",
    "import dash\n",
    "import dash_core_components as dcc\n",
    "import dash_html_components as html\n",
    "from dash.dependencies import Input, Output\n",
    "import plotly.graph_objs as go\n",
    "import numpy as np\n",
    "import pandas as pd\n",
    "\n",
    "app = dash.Dash()\n",
    "\n",
    "# create x and y arrays\n",
    "np.random.seed(10)          # for reproducible results\n",
    "x1 = np.linspace(0.1,5,50)  # left half\n",
    "x2 = np.linspace(5.1,10,50) # right half\n",
    "y = np.random.randint(0,50,50) # 50 random points\n",
    "\n",
    "# create three \"half DataFrames\"\n",
    "df1 = pd.DataFrame({'x': x1, 'y': y})\n",
    "df2 = pd.DataFrame({'x': x1, 'y': y})\n",
    "df3 = pd.DataFrame({'x': x2, 'y': y})\n",
    "\n",
    "# combine them into one DataFrame (df1 and df2 points overlap!)\n",
    "df = pd.concat([df1,df2,df3])\n",
    "\n",
    "app.layout = html.Div([\n",
    "    html.Div([\n",
    "    dcc.Graph(\n",
    "        id='plot',\n",
    "        figure={\n",
    "            'data': [\n",
    "                go.Scatter(\n",
    "                    x = df['x'],\n",
    "                    y = df['y'],\n",
    "                    mode = 'markers'\n",
    "                )\n",
    "            ],\n",
    "            'layout': go.Layout(\n",
    "                title = 'Random Scatterplot',\n",
    "                hovermode='closest'\n",
    "            )\n",
    "        }\n",
    "    )], style={'width':'30%', 'display':'inline-block'}),\n",
    "\n",
    "    html.Div([\n",
    "    html.H1(id='density', style={'paddingTop':25})\n",
    "    ], style={'width':'30%', 'display':'inline-block', 'verticalAlign':'top'})\n",
    "])\n",
    "\n",
    "@app.callback(\n",
    "    Output('density', 'children'),\n",
    "    [Input('plot', 'selectedData')])\n",
    "def find_density(selectedData):\n",
    "    pts = len(selectedData['points'])\n",
    "    rng_or_lp = list(selectedData.keys())\n",
    "    rng_or_lp.remove('points')\n",
    "    max_x = max(selectedData[rng_or_lp[0]]['x'])\n",
    "    min_x = min(selectedData[rng_or_lp[0]]['x'])\n",
    "    max_y = max(selectedData[rng_or_lp[0]]['y'])\n",
    "    min_y = min(selectedData[rng_or_lp[0]]['y'])\n",
    "    area = (max_x-min_x)*(max_y-min_y)\n",
    "    d = pts/area\n",
    "    return 'Density = {:.2f}'.format(d)\n",
    "\n",
    "if __name__ == '__main__':\n",
    "    app.run_server()\n"
   ]
  }
 ],
 "metadata": {
  "kernelspec": {
   "display_name": "Python 3",
   "language": "python",
   "name": "python3"
  },
  "language_info": {
   "codemirror_mode": {
    "name": "ipython",
    "version": 3
   },
   "file_extension": ".py",
   "mimetype": "text/x-python",
   "name": "python",
   "nbconvert_exporter": "python",
   "pygments_lexer": "ipython3",
   "version": "3.8.3"
  }
 },
 "nbformat": 4,
 "nbformat_minor": 4
}
